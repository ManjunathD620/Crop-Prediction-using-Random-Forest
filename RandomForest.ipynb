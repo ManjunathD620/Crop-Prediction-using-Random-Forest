{
  "nbformat": 4,
  "nbformat_minor": 0,
  "metadata": {
    "colab": {
      "name": "RandomForest.ipynb",
      "provenance": [],
      "collapsed_sections": [],
      "include_colab_link": true
    },
    "kernelspec": {
      "name": "python3",
      "display_name": "Python 3"
    },
    "language_info": {
      "name": "python"
    }
  },
  "cells": [
    {
      "cell_type": "markdown",
      "metadata": {
        "id": "view-in-github",
        "colab_type": "text"
      },
      "source": [
        "<a href=\"https://colab.research.google.com/github/ManjunathD620/Crop-Prediction-using-Random-Forest/blob/main/RandomForest.ipynb\" target=\"_parent\"><img src=\"https://colab.research.google.com/assets/colab-badge.svg\" alt=\"Open In Colab\"/></a>"
      ]
    },
    {
      "cell_type": "code",
      "metadata": {
        "colab": {
          "base_uri": "https://localhost:8080/"
        },
        "id": "3-ph1meVk9Wo",
        "outputId": "b91cb4bb-5d15-469a-8983-295b8c79bef4"
      },
      "source": [
        "import pandas as pd\n",
        "import numpy as np\n",
        "from sklearn.model_selection import train_test_split\n",
        "from sklearn.ensemble import RandomForestClassifier\n",
        "from sklearn.metrics import accuracy_score\n",
        "\n",
        "with open(\"Class.txt\") as f:\n",
        "  Crops = f.readlines()\n",
        "  Crops = [i[:-1] for i in Crops]\n",
        "\n",
        "#Reading the csv file\n",
        "data=pd.read_csv('/content/CropPrediction Dataset.csv')\n",
        "\n",
        "#Creating dummy variable for target i.e label\n",
        "label= pd.get_dummies(data.label).iloc[: , 1:]\n",
        "data= pd.concat([data,label],axis=1)\n",
        "data.drop('label', axis=1,inplace=True)\n",
        "print('The data present in one row of the dataset is')\n",
        "print(data.head(5))\n",
        "train=data.iloc[:, 0:4].values\n",
        "test=data.iloc[: ,4:].values\n",
        "\n",
        "#Dividing the data into training and test set\n",
        "X_train,X_test,y_train,y_test=train_test_split(train,test,test_size=0.3)\n",
        "\n",
        "classifier = RandomForestClassifier(n_estimators = 200, criterion = 'entropy', random_state = 0)\n",
        "classifier.fit(X_train,y_train)\n",
        "pred = classifier.predict(X_test)\n",
        "\n",
        "\n",
        "# Finding the accuracy of the model\n",
        "a=accuracy_score(y_test,pred)\n",
        "print(\"\\nModel Accuracy : \", a*100)\n",
        "\n"
      ],
      "execution_count": null,
      "outputs": [
        {
          "output_type": "stream",
          "name": "stdout",
          "text": [
            "The data present in one row of the dataset is\n",
            "   temperature   humidity        ph  ...  rice  watermelon  wheat\n",
            "0    20.879744  82.002744  6.502985  ...     1           0      0\n",
            "1    21.770462  80.319644  7.038096  ...     1           0      0\n",
            "2    23.004459  82.320763  7.840207  ...     1           0      0\n",
            "3    26.491096  80.158363  6.980401  ...     1           0      0\n",
            "4    20.130175  81.604873  7.628473  ...     1           0      0\n",
            "\n",
            "[5 rows x 34 columns]\n",
            "\n",
            "Model Accuracy :  91.72043010752688\n"
          ]
        }
      ]
    },
    {
      "cell_type": "code",
      "metadata": {
        "colab": {
          "base_uri": "https://localhost:8080/"
        },
        "id": "u8u6COWmu0JX",
        "outputId": "a66bcbfd-a78d-40a5-c655-988ff907e776"
      },
      "source": [
        "import numpy as np\n",
        "test = [[21.00527346,60.77131372,4.772296297,230.6059422]] #Tea\n",
        "pred = classifier.predict(test)\n",
        "print(f\"The Predicted Crop is {Crops[np.argmax(pred)]}\")\n",
        "\n",
        "# [[20.87974371,82.00274423,6.502985292,202.9355362]] #Rice\n",
        "# [[27.10606808,89.89593328,6.698574085,37.45680611]]  #Mung Bean\n",
        "# [[49.87673602,15.49100816,6.912345828,\t39.40150564]] #millet\n",
        "# [[18.41932981,64.23580251,6.474476516,76.41312437]]  #maize\n",
        "# [[27.76524299,83.61715217,5.187777072,168.581158]]  #Sugarcane\n",
        "# [[28.74013335,93.39676499,5.620733794,156.7650823]] #Coconut\n",
        "# [[22.35753322,56.8091977,4.735721002,151.5420229]] #Tea"
      ],
      "execution_count": null,
      "outputs": [
        {
          "output_type": "stream",
          "name": "stdout",
          "text": [
            "The Predicted Crop is Tea\n"
          ]
        }
      ]
    }
  ]
}